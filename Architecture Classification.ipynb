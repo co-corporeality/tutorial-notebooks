{
  "nbformat": 4,
  "nbformat_minor": 0,
  "metadata": {
    "kernelspec": {
      "name": "python3",
      "display_name": "Python 3"
    },
    "language_info": {
      "codemirror_mode": {
        "name": "ipython",
        "version": 3
      },
      "file_extension": ".py",
      "mimetype": "text/x-python",
      "name": "python",
      "nbconvert_exporter": "python",
      "pygments_lexer": "ipython3",
      "version": "3.7.4"
    },
    "colab": {
      "name": "Architecture Classification.ipynb",
      "provenance": [],
      "collapsed_sections": [],
      "toc_visible": true
    },
    "accelerator": "GPU"
  },
  "cells": [
    {
      "cell_type": "markdown",
      "metadata": {
        "id": "TJuMy9Aye5z9",
        "colab_type": "text"
      },
      "source": [
        "[![Open In Colab](https://colab.research.google.com/assets/colab-badge.svg)](https://colab.research.google.com/github/co-corporeality/tutorial-notebooks/blob/master/Architecture%20Classification.ipynb)"
      ]
    },
    {
      "cell_type": "markdown",
      "metadata": {
        "hide_input": false,
        "id": "O2VFCxKyCVWt",
        "colab_type": "text"
      },
      "source": [
        "# Simple Image Classification\n",
        "\n",
        "*adaptation of a [fast.ai course notebook](https://github.com/fastai/course-v3) by Francisco Ingham and Jeremy Howard, which was in turn inspired by [Adrian Rosebrock](https://www.pyimagesearch.com/2017/12/04/how-to-create-a-deep-learning-dataset-using-google-images/)*"
      ]
    },
    {
      "cell_type": "markdown",
      "metadata": {
        "hide_input": true,
        "id": "V7hugxWeCVWv",
        "colab_type": "text"
      },
      "source": [
        "This tutorial shows how to create an image dataset with Google Images, and train and test a neural network on it. We'll first import some tools from the fast.ai library. (`import *` is not recommended for production code, since it makes it hard to understand where functions are defined, but it saves some typing when experimenting interactively in a notebook.)"
      ]
    },
    {
      "cell_type": "code",
      "metadata": {
        "hide_input": false,
        "id": "A5YsC1DECVWw",
        "colab_type": "code",
        "colab": {}
      },
      "source": [
        "from fastai.vision import *\n",
        "from pathlib import Path\n",
        "import numpy as np"
      ],
      "execution_count": 0,
      "outputs": []
    },
    {
      "cell_type": "markdown",
      "metadata": {
        "id": "IBTkfeoLCVW0",
        "colab_type": "text"
      },
      "source": [
        "## Get a list of URLs"
      ]
    },
    {
      "cell_type": "markdown",
      "metadata": {
        "id": "4lBzI3AjCVW1",
        "colab_type": "text"
      },
      "source": [
        "### Search and scroll"
      ]
    },
    {
      "cell_type": "markdown",
      "metadata": {
        "id": "jGiQ5pKCCVW1",
        "colab_type": "text"
      },
      "source": [
        "Go to [Google Images](http://images.google.com) and search for the images you are interested in. The more specific you are in your Google Search, the better the results (although you can also manually prune images later).\n",
        "\n",
        "Scroll down until you've seen all the images you want to download, or until you see a button that says 'Show more results'. All the images you scrolled past are now available to download. To get more, click on the button, and continue scrolling. The maximum number of images Google Images shows is 700.\n",
        "\n",
        "It is a good idea to put things you want to exclude into the search query, for instance if you are searching for the Eurasian wolf, \"canis lupus lupus\", it might be a good idea to exclude other variants:\n",
        "\n",
        "    \"canis lupus lupus\" -dog -arctos -familiaris -baileyi -occidentalis\n",
        "\n",
        "You can also limit your results to show only photos by clicking on Tools and selecting Photos from the Type dropdown."
      ]
    },
    {
      "cell_type": "markdown",
      "metadata": {
        "id": "3K8VSiPFCVW2",
        "colab_type": "text"
      },
      "source": [
        "### Download into file"
      ]
    },
    {
      "cell_type": "markdown",
      "metadata": {
        "id": "vtDhAjecCVW3",
        "colab_type": "text"
      },
      "source": [
        "Now you must run some JavaScript code in your browser which will save the URLs of all the images you want for you dataset.\n",
        "\n",
        "In Firefox, press <kbd>Ctrl</kbd><kbd>Shift</kbd><kbd>K</kbd> in Windows/Linux and <kbd>Cmd</kbd><kbd>Opt</kbd><kbd>K</kbd> in Mac. In Google Chrome, use <kbd>J</kbd> instead of <kbd>K</kbd>. In either case, a small window, the JavaScript 'Console', will appear. That is where you will paste the JavaScript commands.\n",
        "\n",
        "You will need to get the urls of each of the images. You can do this by running the following commands:\n",
        "\n",
        "```javascript\n",
        "urls = Array.from(document.querySelectorAll('.rg_di .rg_meta')).map(el=>JSON.parse(el.textContent).ou);\n",
        "window.open('data:text/csv;charset=utf-8,' + escape(urls.join('\\n')));\n",
        "```\n",
        "\n",
        "(Firefox prevents pasting commands from the clipboard by default. To enable it, type \"allow pasting\" in the console and delete it again.)\n",
        "\n",
        "The browser will ask you where to save the file. Save it somewhere you can find it again, and name it after the class. If you do not see a download dialog, check if there is a note on top of the screen telling that a popup has been blocked, and unblock it.\n",
        "\n",
        "When the file has been saved, go back to the previous step and repeat with another search term for another target class."
      ]
    },
    {
      "cell_type": "markdown",
      "metadata": {
        "id": "ygZ2dKx0CVW4",
        "colab_type": "text"
      },
      "source": [
        "### Upload urls file into your server"
      ]
    },
    {
      "cell_type": "markdown",
      "metadata": {
        "id": "ZMEbmJScCVW4",
        "colab_type": "text"
      },
      "source": [
        "If you are not running this notebook locally on your own computer, you will need to transfer the URL files to the notebook server. In Jupyter Lab, click the \"New Folder\" button in the file overview on the left, call it \"dataset\". Open the directory and click the \"Upload Files\" button. Upload all \".csv\" files you created before."
      ]
    },
    {
      "cell_type": "markdown",
      "metadata": {
        "id": "Y4VijvfMCVW5",
        "colab_type": "text"
      },
      "source": [
        "## Download images"
      ]
    },
    {
      "cell_type": "markdown",
      "metadata": {
        "id": "BBgQODS0CVW6",
        "colab_type": "text"
      },
      "source": [
        "Now you will need to download your images from their respective urls.\n",
        "\n",
        "fast.ai has a function that allows you to do just that. You just have to specify the urls filename as well as the destination folder and this function will download and save all images that can be opened. If they have some problem in being opened, they will not be saved.\n",
        "\n",
        "Let's download our images! Notice you can choose a maximum number of images to be downloaded. In this case we will not download all the urls.\n",
        "\n",
        "We will run this for all the \".csv\" files in a loop."
      ]
    },
    {
      "cell_type": "markdown",
      "metadata": {
        "id": "_Y09iI2yCVW6",
        "colab_type": "text"
      },
      "source": [
        "Define the directory where you put all the \".csv\" files. If you uploaded the files to the server, it will be \"dataset\". Otherwise it may be a directory somewhere on your disk."
      ]
    },
    {
      "cell_type": "code",
      "metadata": {
        "id": "TMcQBn4GCVW7",
        "colab_type": "code",
        "colab": {}
      },
      "source": [
        "path = Path('/content/architecture')"
      ],
      "execution_count": 0,
      "outputs": []
    },
    {
      "cell_type": "markdown",
      "metadata": {
        "id": "u-mZPmreCVW9",
        "colab_type": "text"
      },
      "source": [
        "Let's verify that the \".csv\" files are there."
      ]
    },
    {
      "cell_type": "code",
      "metadata": {
        "id": "u9rExCrICVW-",
        "colab_type": "code",
        "colab": {}
      },
      "source": [
        "list(path.glob('*.csv'))"
      ],
      "execution_count": 0,
      "outputs": []
    },
    {
      "cell_type": "markdown",
      "metadata": {
        "id": "_61NwITcCVXB",
        "colab_type": "text"
      },
      "source": [
        "We will now iterate over the CSV files and download the images to separate subdirectories."
      ]
    },
    {
      "cell_type": "code",
      "metadata": {
        "id": "Dt1QeHmRCVXC",
        "colab_type": "code",
        "colab": {}
      },
      "source": [
        "for csv in path.glob('*.csv'):\n",
        "    classname = csv.stem\n",
        "    print(classname)\n",
        "    dest = path/classname\n",
        "    dest.mkdir(parents=True, exist_ok=True)\n",
        "    download_images(csv, dest, max_pics=200, max_workers=6)"
      ],
      "execution_count": 0,
      "outputs": []
    },
    {
      "cell_type": "markdown",
      "metadata": {
        "id": "vgfxgIHTCVXE",
        "colab_type": "text"
      },
      "source": [
        "Then we can remove any images that can't be opened:"
      ]
    },
    {
      "cell_type": "code",
      "metadata": {
        "id": "kNo3vRvDCVXF",
        "colab_type": "code",
        "colab": {}
      },
      "source": [
        "for csv in path.glob('*.csv'):\n",
        "    classname = csv.stem\n",
        "    print(classname)\n",
        "    verify_images(path/classname, delete=True, max_size=500)"
      ],
      "execution_count": 0,
      "outputs": []
    },
    {
      "cell_type": "markdown",
      "metadata": {
        "id": "2NPegQ_2CVXI",
        "colab_type": "text"
      },
      "source": [
        "## View data"
      ]
    },
    {
      "cell_type": "markdown",
      "metadata": {
        "id": "OLPdoQcTCVXI",
        "colab_type": "text"
      },
      "source": [
        "We create a fast.ai `ImageDataBunch` from the directory of images we just downloaded:"
      ]
    },
    {
      "cell_type": "code",
      "metadata": {
        "id": "dqHshLghCVXJ",
        "colab_type": "code",
        "colab": {}
      },
      "source": [
        "np.random.seed(42)\n",
        "data = ImageDataBunch.from_folder(path, valid_pct=0.2,\n",
        "        ds_tfms=get_transforms(), size=224, num_workers=4).normalize(imagenet_stats)"
      ],
      "execution_count": 0,
      "outputs": []
    },
    {
      "cell_type": "markdown",
      "metadata": {
        "id": "TW-7JxStCVXL",
        "colab_type": "text"
      },
      "source": [
        "Good! Let's take a look at some of our pictures then."
      ]
    },
    {
      "cell_type": "code",
      "metadata": {
        "id": "5MRHfkIFCVXM",
        "colab_type": "code",
        "colab": {}
      },
      "source": [
        "data.classes"
      ],
      "execution_count": 0,
      "outputs": []
    },
    {
      "cell_type": "code",
      "metadata": {
        "id": "m9mISestCVXP",
        "colab_type": "code",
        "colab": {}
      },
      "source": [
        "data.show_batch(rows=3, figsize=(7,8))"
      ],
      "execution_count": 0,
      "outputs": []
    },
    {
      "cell_type": "code",
      "metadata": {
        "id": "ckQPeQoCCVXR",
        "colab_type": "code",
        "colab": {}
      },
      "source": [
        "data.classes, data.c, len(data.train_ds), len(data.valid_ds)"
      ],
      "execution_count": 0,
      "outputs": []
    },
    {
      "cell_type": "markdown",
      "metadata": {
        "id": "DiIIEdVjCVXU",
        "colab_type": "text"
      },
      "source": [
        "## Train a neural network"
      ]
    },
    {
      "cell_type": "code",
      "metadata": {
        "id": "We5V3BeFCVXU",
        "colab_type": "code",
        "colab": {}
      },
      "source": [
        "learn = cnn_learner(data, models.resnet34, metrics=error_rate)"
      ],
      "execution_count": 0,
      "outputs": []
    },
    {
      "cell_type": "code",
      "metadata": {
        "id": "mMBdKvGQCVXW",
        "colab_type": "code",
        "colab": {}
      },
      "source": [
        "learn.fit_one_cycle(4)"
      ],
      "execution_count": 0,
      "outputs": []
    },
    {
      "cell_type": "markdown",
      "metadata": {
        "id": "fp5q54hSCVXb",
        "colab_type": "text"
      },
      "source": [
        "## Checking results"
      ]
    },
    {
      "cell_type": "markdown",
      "metadata": {
        "id": "FN8yW3z_CVXc",
        "colab_type": "text"
      },
      "source": [
        "Fast.ai also provides tools to quickly check if and what the model has learned, encapsulated in a `ClassificationInterpretation` class."
      ]
    },
    {
      "cell_type": "code",
      "metadata": {
        "id": "IMdOOzZYCVXd",
        "colab_type": "code",
        "colab": {}
      },
      "source": [
        "interp = ClassificationInterpretation.from_learner(learn)"
      ],
      "execution_count": 0,
      "outputs": []
    },
    {
      "cell_type": "markdown",
      "metadata": {
        "id": "qOLW2V-YCVXg",
        "colab_type": "text"
      },
      "source": [
        "### Confusion matrix\n",
        "\n",
        "This shows which classes were predicted how often, separated by ground truth class."
      ]
    },
    {
      "cell_type": "code",
      "metadata": {
        "id": "a3DI4NDeCVXg",
        "colab_type": "code",
        "colab": {}
      },
      "source": [
        "interp.plot_confusion_matrix()"
      ],
      "execution_count": 0,
      "outputs": []
    },
    {
      "cell_type": "markdown",
      "metadata": {
        "id": "GgwtCd5yCVXj",
        "colab_type": "text"
      },
      "source": [
        "### Wrongly classified examples\n",
        "\n",
        "It can be helpful to look at the examples that were predicted wrongly."
      ]
    },
    {
      "cell_type": "code",
      "metadata": {
        "id": "C21U38lKCVXl",
        "colab_type": "code",
        "colab": {}
      },
      "source": [
        "interp.plot_top_losses(4, heatmap=False)"
      ],
      "execution_count": 0,
      "outputs": []
    }
  ]
}